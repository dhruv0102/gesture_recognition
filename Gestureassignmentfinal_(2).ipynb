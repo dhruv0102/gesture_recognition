{
  "cells": [
    {
      "cell_type": "markdown",
      "metadata": {
        "id": "8H04ZtJrbMYD"
      },
      "source": [
        "# Gesture Recognition\n",
        "In this group project, you are going to build a 3D Conv model that will be able to predict the 5 gestures correctly. Please import the following libraries to get started."
      ]
    },
    {
      "cell_type": "code",
      "execution_count": 1,
      "metadata": {
        "id": "RBTi9Ug1bMYE"
      },
      "outputs": [],
      "source": [
        "import numpy as np\n",
        "import os\n",
        "from skimage.io import imread\n",
        "from skimage.transform import resize as imresize\n",
        "import datetime\n",
        "import os\n",
        "\n",
        "import matplotlib.pyplot as plt\n",
        "%matplotlib inline\n",
        "import warnings\n",
        "warnings.filterwarnings(\"ignore\")\n",
        "\n"
      ]
    },
    {
      "cell_type": "markdown",
      "metadata": {
        "id": "HFr7-F3CbMYF"
      },
      "source": [
        "We set the random seed so that the results don't vary drastically."
      ]
    },
    {
      "cell_type": "code",
      "execution_count": 2,
      "metadata": {
        "id": "SJYXzhawbMYF"
      },
      "outputs": [],
      "source": [
        "np.random.seed(30)\n",
        "import random as rn\n",
        "rn.seed(30)\n",
        "from tensorflow import keras\n",
        "from skimage.transform import resize\n",
        "import tensorflow as tf\n",
        "tf.random.set_seed(30)"
      ]
    },
    {
      "cell_type": "markdown",
      "metadata": {
        "id": "3bFMWGEcbMYF"
      },
      "source": [
        "In this block, you read the folder names for training and validation. You also set the `batch_size` here. Note that you set the batch size in such a way that you are able to use the GPU in full capacity. You keep increasing the batch size until the machine throws an error."
      ]
    },
    {
      "cell_type": "code",
      "source": [
        "from google.colab import drive\n",
        "drive.mount('/content/drive')"
      ],
      "metadata": {
        "colab": {
          "base_uri": "https://localhost:8080/"
        },
        "id": "m6aTdhuxjBKp",
        "outputId": "e33b9361-d409-468e-d368-27c98b0cb13d"
      },
      "execution_count": 3,
      "outputs": [
        {
          "output_type": "stream",
          "name": "stdout",
          "text": [
            "Mounted at /content/drive\n"
          ]
        }
      ]
    },
    {
      "cell_type": "code",
      "execution_count": 4,
      "metadata": {
        "id": "wX5HzUkEbMYF"
      },
      "outputs": [],
      "source": [
        "train_doc = np.random.permutation(open('/content/drive/My Drive/Project_data/Project_data/train.csv').readlines())\n",
        "val_doc = np.random.permutation(open('/content/drive/My Drive/Project_data/Project_data/val.csv').readlines())\n",
        "batch_size = 64"
      ]
    },
    {
      "cell_type": "code",
      "source": [
        "from keras import backend as K\n",
        "from keras.layers import Conv2D, Conv3D, MaxPooling2D, MaxPooling3D, AveragePooling2D\n",
        "from keras.layers import Dense, GRU, Flatten, TimeDistributed, Bidirectional, BatchNormalization, Activation, Dropout, GlobalAveragePooling2D, GlobalAveragePooling3D, ConvLSTM2D\n",
        "\n",
        "from keras.models import Sequential, Model\n",
        "from keras.callbacks import ModelCheckpoint, ReduceLROnPlateau\n",
        "from keras import optimizers\n",
        "from keras.regularizers import l2\n",
        "from keras.layers import LSTM, GRU, Bidirectional, SimpleRNN, RNN"
      ],
      "metadata": {
        "id": "_7Tq3fNCHnJq"
      },
      "execution_count": 5,
      "outputs": []
    },
    {
      "cell_type": "markdown",
      "metadata": {
        "id": "uWwxUNMBbMYF"
      },
      "source": [
        "## Generator\n",
        "This is one of the most important part of the code. The overall structure of the generator has been given. In the generator, you are going to preprocess the images as you have images of 2 different dimensions as well as create a batch of video frames. You have to experiment with `img_idx`, `y`,`z` and normalization such that you get high accuracy."
      ]
    },
    {
      "cell_type": "code",
      "execution_count": null,
      "metadata": {
        "id": "QLHSE0EAbMYG"
      },
      "outputs": [],
      "source": []
    },
    {
      "cell_type": "code",
      "source": [
        "\n"
      ],
      "metadata": {
        "id": "r7GwLpi75Cxc"
      },
      "execution_count": null,
      "outputs": []
    },
    {
      "cell_type": "code",
      "source": [],
      "metadata": {
        "id": "nwvRgZBP_Rkl"
      },
      "execution_count": null,
      "outputs": []
    },
    {
      "cell_type": "code",
      "source": [
        "def generator(source_path, folder_list, batch_size):\n",
        "    print( 'Source path = ', source_path, '; batch size =', batch_size)\n",
        "    img_idx = np.arange(0,30,3) #create a list of image numbers you want to use for a particular video\n",
        "\n",
        "    while True:\n",
        "        t = np.random.permutation(folder_list)\n",
        "        num_batches = len(folder_list)//batch_size # calculate the number of batches\n",
        "        for batch in range(num_batches): # we iterate over the number of batches\n",
        "            batch_data = np.zeros((batch_size,len(img_idx),50,50,3)) # x is the number of images you use for each video, (y,z) is the final size of the input images and 3 is the number of channels RGB\n",
        "            batch_labels = np.zeros((batch_size,5)) # batch_labels is the one hot representation of the output\n",
        "            for folder in range(batch_size): # iterate over the batch_size\n",
        "                imgs = os.listdir(source_path+'/'+ t[folder + (batch*batch_size)].split(';')[0]) # read all the images in the folder\n",
        "                for idx,item in enumerate(img_idx): #  Iterate over the frames/images of a folder to read them in\n",
        "                    image = imread(source_path+'/'+ t[folder + (batch*batch_size)].strip().split(';')[0]+'/'+imgs[item]).astype(np.float32)\n",
        "\n",
        "                    #crop the images and resize them. Note that the images are of 2 different shape\n",
        "                    #and the conv3D will throw error if the inputs in a batch have different shapes\n",
        "\n",
        "                    image = resize(image,(50,50))\n",
        "                    image = image - np.percentile(image,5)/ np.percentile(image,95) - np.percentile(image,5)\n",
        "                    batch_data[folder,idx,:,:,0] = image[:,:,0]\n",
        "                    batch_data[folder,idx,:,:,1] = image[:,:,1]\n",
        "                    batch_data[folder,idx,:,:,2] = image[:,:,2]\n",
        "\n",
        "                batch_labels[folder, int(t[folder + (batch*batch_size)].strip().split(';')[2])] = 1\n",
        "            yield batch_data, batch_labels #you yield the batch_data and the batch_labels, remember what does yield do\n",
        "\n",
        "        rem_image = len(folder_list)%batch_size\n",
        "\n",
        "        batch += 1\n",
        "\n",
        "        if(rem_image!=0):\n",
        "            batch_data = np.zeros((rem_image,len(img_idx),50,50,3)) # x is the number of images you use for each video, (y,z) is the final size of the input images and 3 is the number of channels RGB\n",
        "            batch_labels = np.zeros((rem_image,5)) # batch_labels is the one hot representation of the output\n",
        "\n",
        "            for folder in range(rem_image): # iterate over the batch_size\n",
        "                imgs = os.listdir(source_path+'/'+ t[folder + (batch*batch_size)].split(';')[0]) # read all the images in the folder\n",
        "                for idx,item in enumerate(img_idx): #  Iterate over the frames/images of a folder to read them in\n",
        "                    image = imread(source_path+'/'+ t[folder + (batch*batch_size)].strip().split(';')[0]+'/'+imgs[item]).astype(np.float32)\n",
        "\n",
        "                    #crop the images and resize them. Note that the images are of 2 different shape\n",
        "                    #and the conv3D will throw error if the inputs in a batch have different shapes\n",
        "\n",
        "                    image = resize(image,(50,50))\n",
        "                    image = image - np.percentile(image,5)/ np.percentile(image,95) - np.percentile(image,5)\n",
        "                    batch_data[folder,idx,:,:,0] = image[:,:,0]\n",
        "                    batch_data[folder,idx,:,:,1] = image[:,:,1]\n",
        "                    batch_data[folder,idx,:,:,2] = image[:,:,2]\n",
        "\n",
        "                batch_labels[folder, int(t[folder + (batch*batch_size)].strip().split(';')[2])] = 1\n",
        "            yield batch_data, batch_labels"
      ],
      "metadata": {
        "id": "fEjKxGUoF8zC"
      },
      "execution_count": 6,
      "outputs": []
    },
    {
      "cell_type": "code",
      "source": [],
      "metadata": {
        "id": "4H-uE7Nh72ba"
      },
      "execution_count": null,
      "outputs": []
    },
    {
      "cell_type": "markdown",
      "metadata": {
        "id": "mcCgqS6_bMYG"
      },
      "source": [
        "Note here that a video is represented above in the generator as (number of images, height, width, number of channels). Take this into consideration while creating the model architecture."
      ]
    },
    {
      "cell_type": "code",
      "execution_count": 7,
      "metadata": {
        "colab": {
          "base_uri": "https://localhost:8080/"
        },
        "id": "TPfCiAgXbMYG",
        "outputId": "9ef0bef1-cf59-4370-84c6-020876938b26"
      },
      "outputs": [
        {
          "output_type": "stream",
          "name": "stdout",
          "text": [
            "# training sequences = 663\n",
            "# validation sequences = 100\n",
            "# epochs = 25\n"
          ]
        }
      ],
      "source": [
        "curr_dt_time = datetime.datetime.now()\n",
        "train_path = '/content/drive/My Drive/Project_data/Project_data/train'\n",
        "val_path = '/content/drive/My Drive/Project_data/Project_data/val'\n",
        "num_train_sequences = len(train_doc)\n",
        "print('# training sequences =', num_train_sequences)\n",
        "num_val_sequences = len(val_doc)\n",
        "print('# validation sequences =', num_val_sequences)\n",
        "num_epochs = 15 # choose the number of epochs\n",
        "print ('# epochs =', num_epochs)\n",
        "num_classes = 5\n",
        "batch_size = 32"
      ]
    },
    {
      "cell_type": "code",
      "source": [
        "\n"
      ],
      "metadata": {
        "id": "petbUhAYnTmJ"
      },
      "execution_count": null,
      "outputs": []
    },
    {
      "cell_type": "code",
      "source": [],
      "metadata": {
        "id": "OKiRCUc_m738"
      },
      "execution_count": null,
      "outputs": []
    },
    {
      "cell_type": "code",
      "source": [
        "import tensorflow as tf\n",
        "from keras.models import Sequential, Model\n",
        "from keras.layers import Dense, GRU, Flatten, TimeDistributed, Flatten, BatchNormalization, Activation, Dropout\n",
        "from keras.layers import Conv3D, MaxPooling3D\n",
        "from keras.callbacks import ModelCheckpoint, ReduceLROnPlateau\n",
        "from keras import optimizers\n"
      ],
      "metadata": {
        "id": "O87km6J_Cjqx"
      },
      "execution_count": 8,
      "outputs": []
    },
    {
      "cell_type": "markdown",
      "metadata": {
        "id": "Rjosr3d8bMYG"
      },
      "source": [
        "## Model\n",
        "Here you make the model using different functionalities that Keras provides. Remember to use `Conv3D` and `MaxPooling3D` and not `Conv2D` and `Maxpooling2D` for a 3D convolution model. You would want to use `TimeDistributed` while building a Conv2D + RNN model. Also remember that the last layer is the softmax. Design the network in such a way that the model is able to give good accuracy on the least number of parameters so that it can fit in the memory of the webcam."
      ]
    },
    {
      "cell_type": "markdown",
      "source": [
        "## **Model 1**"
      ],
      "metadata": {
        "id": "AEdoNMbWIbGs"
      }
    },
    {
      "cell_type": "code",
      "source": [],
      "metadata": {
        "id": "OeOP1RbnIWkb"
      },
      "execution_count": null,
      "outputs": []
    },
    {
      "cell_type": "code",
      "execution_count": null,
      "metadata": {
        "id": "O25mfNaObMYG"
      },
      "outputs": [],
      "source": [
        "\n",
        "#write your model here\n",
        "model = Sequential()\n",
        "model.add(Conv3D(32,kernel_size=3,activation='relu',input_shape=(10,50,50,3)))\n",
        "model.add(Conv3D(64,kernel_size=3,activation='relu'))\n",
        "model.add(MaxPooling3D(pool_size=(2,2,2)))\n",
        "model.add(BatchNormalization())\n",
        "\n",
        "model.add(Conv3D(64,kernel_size=3,activation='relu'))\n",
        "model.add(MaxPooling3D(pool_size=(1,2,2)))\n",
        "model.add(BatchNormalization())\n",
        "\n",
        "model.add(Conv3D(64,kernel_size=(1,3,3),activation='relu'))\n",
        "model.add(MaxPooling3D(pool_size=(1,2,2)))\n",
        "model.add(BatchNormalization())\n",
        "\n",
        "model.add(Conv3D(64,kernel_size=(1,3,3),activation='relu'))\n",
        "model.add(MaxPooling3D(pool_size=(1,2,2)))\n",
        "model.add(BatchNormalization())\n",
        "\n",
        "model.add(Flatten())\n",
        "model.add(Dense(512,activation='relu'))\n",
        "model.add(BatchNormalization())\n",
        "model.add(Dense(5,activation='softmax'))\n",
        "\n"
      ]
    },
    {
      "cell_type": "code",
      "source": [
        "optimizer = tf.keras.optimizers.Adam(learning_rate=0.01)  #write your optimizer\n",
        "model.compile(optimizer=optimizer, loss='categorical_crossentropy', metrics=['categorical_accuracy'])\n",
        "print (model.summary())"
      ],
      "metadata": {
        "id": "_9Pf9x3lIsiD",
        "colab": {
          "base_uri": "https://localhost:8080/"
        },
        "outputId": "fcd5b60e-debc-4b2c-a2e4-4e3e46276016"
      },
      "execution_count": null,
      "outputs": [
        {
          "output_type": "stream",
          "name": "stdout",
          "text": [
            "Model: \"sequential\"\n",
            "_________________________________________________________________\n",
            " Layer (type)                Output Shape              Param #   \n",
            "=================================================================\n",
            " conv3d (Conv3D)             (None, 8, 48, 48, 32)     2624      \n",
            "                                                                 \n",
            " conv3d_1 (Conv3D)           (None, 6, 46, 46, 64)     55360     \n",
            "                                                                 \n",
            " max_pooling3d (MaxPooling3  (None, 3, 23, 23, 64)     0         \n",
            " D)                                                              \n",
            "                                                                 \n",
            " batch_normalization (Batch  (None, 3, 23, 23, 64)     256       \n",
            " Normalization)                                                  \n",
            "                                                                 \n",
            " conv3d_2 (Conv3D)           (None, 1, 21, 21, 64)     110656    \n",
            "                                                                 \n",
            " max_pooling3d_1 (MaxPoolin  (None, 1, 10, 10, 64)     0         \n",
            " g3D)                                                            \n",
            "                                                                 \n",
            " batch_normalization_1 (Bat  (None, 1, 10, 10, 64)     256       \n",
            " chNormalization)                                                \n",
            "                                                                 \n",
            " conv3d_3 (Conv3D)           (None, 1, 8, 8, 64)       36928     \n",
            "                                                                 \n",
            " max_pooling3d_2 (MaxPoolin  (None, 1, 4, 4, 64)       0         \n",
            " g3D)                                                            \n",
            "                                                                 \n",
            " batch_normalization_2 (Bat  (None, 1, 4, 4, 64)       256       \n",
            " chNormalization)                                                \n",
            "                                                                 \n",
            " conv3d_4 (Conv3D)           (None, 1, 2, 2, 64)       36928     \n",
            "                                                                 \n",
            " max_pooling3d_3 (MaxPoolin  (None, 1, 1, 1, 64)       0         \n",
            " g3D)                                                            \n",
            "                                                                 \n",
            " batch_normalization_3 (Bat  (None, 1, 1, 1, 64)       256       \n",
            " chNormalization)                                                \n",
            "                                                                 \n",
            " flatten (Flatten)           (None, 64)                0         \n",
            "                                                                 \n",
            " dense (Dense)               (None, 512)               33280     \n",
            "                                                                 \n",
            " batch_normalization_4 (Bat  (None, 512)               2048      \n",
            " chNormalization)                                                \n",
            "                                                                 \n",
            " dense_1 (Dense)             (None, 5)                 2565      \n",
            "                                                                 \n",
            "=================================================================\n",
            "Total params: 281413 (1.07 MB)\n",
            "Trainable params: 279877 (1.07 MB)\n",
            "Non-trainable params: 1536 (6.00 KB)\n",
            "_________________________________________________________________\n",
            "None\n"
          ]
        }
      ]
    },
    {
      "cell_type": "code",
      "source": [
        "train_generator = generator(train_path, train_doc, batch_size)\n",
        "val_generator = generator(val_path, val_doc, batch_size)"
      ],
      "metadata": {
        "id": "J_PjcLTwIxuH"
      },
      "execution_count": null,
      "outputs": []
    },
    {
      "cell_type": "code",
      "source": [
        "model_name = 'model_init_exp_16' + '_' + str(curr_dt_time).replace(' ','').replace(':','_') + '/'\n",
        "\n",
        "if not os.path.exists(model_name):\n",
        "    os.mkdir(model_name)\n",
        "\n",
        "filepath = model_name + 'model-{epoch:05d}-{loss:.5f}-{categorical_accuracy:.5f}-{val_loss:.5f}-{val_categorical_accuracy:.5f}.h5'\n",
        "\n",
        "checkpoint = ModelCheckpoint(filepath, monitor='val_loss', verbose=1, save_best_only=False, save_weights_only=False, mode='auto', period=1)\n",
        "\n",
        "LR = ReduceLROnPlateau(monitor='val_loss', factor=0.2, patience=5, min_lr=0.001, verbose=1) # write the REducelronplateau code here\n",
        "\n",
        "callbacks_list = [checkpoint, LR]"
      ],
      "metadata": {
        "id": "0Q-K_HvGI1EC",
        "colab": {
          "base_uri": "https://localhost:8080/"
        },
        "outputId": "ab8dd895-4d60-407c-ba73-9bbe1e2f0b6e"
      },
      "execution_count": null,
      "outputs": [
        {
          "output_type": "stream",
          "name": "stderr",
          "text": [
            "WARNING:tensorflow:`period` argument is deprecated. Please use `save_freq` to specify the frequency in number of batches seen.\n"
          ]
        }
      ]
    },
    {
      "cell_type": "code",
      "source": [
        "if (num_train_sequences%batch_size) == 0:\n",
        "    steps_per_epoch = int(num_train_sequences/batch_size)\n",
        "else:\n",
        "    steps_per_epoch = (num_train_sequences//batch_size) + 1\n",
        "\n",
        "if (num_val_sequences%batch_size) == 0:\n",
        "    validation_steps = int(num_val_sequences/batch_size)\n",
        "else:\n",
        "    validation_steps = (num_val_sequences//batch_size) + 1"
      ],
      "metadata": {
        "id": "NxYzSX0nI6dA"
      },
      "execution_count": null,
      "outputs": []
    },
    {
      "cell_type": "code",
      "source": [
        "model1 = model.fit_generator(train_generator, steps_per_epoch=steps_per_epoch, epochs=num_epochs, verbose=1,\n",
        "                    callbacks=callbacks_list, validation_data=val_generator,\n",
        "                    validation_steps=validation_steps, class_weight=None, workers=1, initial_epoch=0)"
      ],
      "metadata": {
        "id": "dS9pjV3QJAr0",
        "colab": {
          "base_uri": "https://localhost:8080/"
        },
        "outputId": "555f5f13-f484-41be-bba3-124536700c10"
      },
      "execution_count": null,
      "outputs": [
        {
          "output_type": "stream",
          "name": "stdout",
          "text": [
            "Source path =  /content/drive/My Drive/Project_data/Project_data/train ; batch size = 64\n",
            "Epoch 1/25\n",
            "11/11 [==============================] - ETA: 0s - loss: 2.4198 - categorical_accuracy: 0.3590  Source path =  /content/drive/My Drive/Project_data/Project_data/val ; batch size = 64\n",
            "\n",
            "Epoch 1: saving model to model_init_exp_16_2023-10-1012_32_11.200412/model-00001-2.41977-0.35897-992.81592-0.18000.h5\n",
            "11/11 [==============================] - 2511s 249s/step - loss: 2.4198 - categorical_accuracy: 0.3590 - val_loss: 992.8159 - val_categorical_accuracy: 0.1800 - lr: 0.0100\n",
            "Epoch 2/25\n",
            "11/11 [==============================] - ETA: 0s - loss: 1.3571 - categorical_accuracy: 0.5008\n",
            "Epoch 2: saving model to model_init_exp_16_2023-10-1012_32_11.200412/model-00002-1.35708-0.50075-445.28250-0.20000.h5\n",
            "11/11 [==============================] - 73s 7s/step - loss: 1.3571 - categorical_accuracy: 0.5008 - val_loss: 445.2825 - val_categorical_accuracy: 0.2000 - lr: 0.0100\n",
            "Epoch 3/25\n",
            "11/11 [==============================] - ETA: 0s - loss: 1.0757 - categorical_accuracy: 0.5747\n",
            "Epoch 3: saving model to model_init_exp_16_2023-10-1012_32_11.200412/model-00003-1.07569-0.57466-330.74347-0.23000.h5\n",
            "11/11 [==============================] - 81s 8s/step - loss: 1.0757 - categorical_accuracy: 0.5747 - val_loss: 330.7435 - val_categorical_accuracy: 0.2300 - lr: 0.0100\n",
            "Epoch 4/25\n",
            "11/11 [==============================] - ETA: 0s - loss: 0.8440 - categorical_accuracy: 0.6742\n",
            "Epoch 4: saving model to model_init_exp_16_2023-10-1012_32_11.200412/model-00004-0.84402-0.67421-121.01884-0.26000.h5\n",
            "11/11 [==============================] - 75s 7s/step - loss: 0.8440 - categorical_accuracy: 0.6742 - val_loss: 121.0188 - val_categorical_accuracy: 0.2600 - lr: 0.0100\n",
            "Epoch 5/25\n",
            "11/11 [==============================] - ETA: 0s - loss: 0.7744 - categorical_accuracy: 0.7255\n",
            "Epoch 5: saving model to model_init_exp_16_2023-10-1012_32_11.200412/model-00005-0.77444-0.72549-63.47534-0.23000.h5\n",
            "11/11 [==============================] - 83s 8s/step - loss: 0.7744 - categorical_accuracy: 0.7255 - val_loss: 63.4753 - val_categorical_accuracy: 0.2300 - lr: 0.0100\n",
            "Epoch 6/25\n",
            "11/11 [==============================] - ETA: 0s - loss: 0.5692 - categorical_accuracy: 0.7722\n",
            "Epoch 6: saving model to model_init_exp_16_2023-10-1012_32_11.200412/model-00006-0.56917-0.77225-43.16051-0.20000.h5\n",
            "11/11 [==============================] - 73s 7s/step - loss: 0.5692 - categorical_accuracy: 0.7722 - val_loss: 43.1605 - val_categorical_accuracy: 0.2000 - lr: 0.0100\n",
            "Epoch 7/25\n",
            "11/11 [==============================] - ETA: 0s - loss: 0.5028 - categorical_accuracy: 0.8250\n",
            "Epoch 7: saving model to model_init_exp_16_2023-10-1012_32_11.200412/model-00007-0.50280-0.82504-31.81684-0.25000.h5\n",
            "11/11 [==============================] - 83s 8s/step - loss: 0.5028 - categorical_accuracy: 0.8250 - val_loss: 31.8168 - val_categorical_accuracy: 0.2500 - lr: 0.0100\n",
            "Epoch 8/25\n",
            "11/11 [==============================] - ETA: 0s - loss: 0.4968 - categorical_accuracy: 0.8054\n",
            "Epoch 8: saving model to model_init_exp_16_2023-10-1012_32_11.200412/model-00008-0.49677-0.80543-9.08703-0.31000.h5\n",
            "11/11 [==============================] - 71s 7s/step - loss: 0.4968 - categorical_accuracy: 0.8054 - val_loss: 9.0870 - val_categorical_accuracy: 0.3100 - lr: 0.0100\n",
            "Epoch 9/25\n",
            "11/11 [==============================] - ETA: 0s - loss: 0.4447 - categorical_accuracy: 0.8220\n",
            "Epoch 9: saving model to model_init_exp_16_2023-10-1012_32_11.200412/model-00009-0.44471-0.82202-15.51139-0.38000.h5\n",
            "11/11 [==============================] - 81s 8s/step - loss: 0.4447 - categorical_accuracy: 0.8220 - val_loss: 15.5114 - val_categorical_accuracy: 0.3800 - lr: 0.0100\n",
            "Epoch 10/25\n",
            "11/11 [==============================] - ETA: 0s - loss: 0.4612 - categorical_accuracy: 0.8311\n",
            "Epoch 10: saving model to model_init_exp_16_2023-10-1012_32_11.200412/model-00010-0.46122-0.83107-18.78225-0.34000.h5\n",
            "11/11 [==============================] - 69s 7s/step - loss: 0.4612 - categorical_accuracy: 0.8311 - val_loss: 18.7822 - val_categorical_accuracy: 0.3400 - lr: 0.0100\n",
            "Epoch 11/25\n",
            "11/11 [==============================] - ETA: 0s - loss: 0.3393 - categorical_accuracy: 0.8778\n",
            "Epoch 11: saving model to model_init_exp_16_2023-10-1012_32_11.200412/model-00011-0.33925-0.87783-15.66798-0.29000.h5\n",
            "11/11 [==============================] - 80s 8s/step - loss: 0.3393 - categorical_accuracy: 0.8778 - val_loss: 15.6680 - val_categorical_accuracy: 0.2900 - lr: 0.0100\n",
            "Epoch 12/25\n",
            "11/11 [==============================] - ETA: 0s - loss: 0.2899 - categorical_accuracy: 0.8929\n",
            "Epoch 12: saving model to model_init_exp_16_2023-10-1012_32_11.200412/model-00012-0.28987-0.89291-13.19431-0.36000.h5\n",
            "11/11 [==============================] - 71s 7s/step - loss: 0.2899 - categorical_accuracy: 0.8929 - val_loss: 13.1943 - val_categorical_accuracy: 0.3600 - lr: 0.0100\n",
            "Epoch 13/25\n",
            "11/11 [==============================] - ETA: 0s - loss: 0.3130 - categorical_accuracy: 0.8929\n",
            "Epoch 13: saving model to model_init_exp_16_2023-10-1012_32_11.200412/model-00013-0.31299-0.89291-11.57555-0.33000.h5\n",
            "\n",
            "Epoch 13: ReduceLROnPlateau reducing learning rate to 0.0019999999552965165.\n",
            "11/11 [==============================] - 79s 8s/step - loss: 0.3130 - categorical_accuracy: 0.8929 - val_loss: 11.5755 - val_categorical_accuracy: 0.3300 - lr: 0.0100\n",
            "Epoch 14/25\n",
            "11/11 [==============================] - ETA: 0s - loss: 0.1752 - categorical_accuracy: 0.9457\n",
            "Epoch 14: saving model to model_init_exp_16_2023-10-1012_32_11.200412/model-00014-0.17523-0.94570-5.99224-0.46000.h5\n",
            "11/11 [==============================] - 72s 7s/step - loss: 0.1752 - categorical_accuracy: 0.9457 - val_loss: 5.9922 - val_categorical_accuracy: 0.4600 - lr: 0.0020\n",
            "Epoch 15/25\n",
            "11/11 [==============================] - ETA: 0s - loss: 0.0927 - categorical_accuracy: 0.9713\n",
            "Epoch 15: saving model to model_init_exp_16_2023-10-1012_32_11.200412/model-00015-0.09274-0.97134-5.27278-0.44000.h5\n",
            "11/11 [==============================] - 78s 8s/step - loss: 0.0927 - categorical_accuracy: 0.9713 - val_loss: 5.2728 - val_categorical_accuracy: 0.4400 - lr: 0.0020\n",
            "Epoch 16/25\n",
            "11/11 [==============================] - ETA: 0s - loss: 0.0560 - categorical_accuracy: 0.9879\n",
            "Epoch 16: saving model to model_init_exp_16_2023-10-1012_32_11.200412/model-00016-0.05599-0.98793-3.92979-0.47000.h5\n",
            "11/11 [==============================] - 70s 7s/step - loss: 0.0560 - categorical_accuracy: 0.9879 - val_loss: 3.9298 - val_categorical_accuracy: 0.4700 - lr: 0.0020\n",
            "Epoch 17/25\n",
            "11/11 [==============================] - ETA: 0s - loss: 0.0601 - categorical_accuracy: 0.9834\n",
            "Epoch 17: saving model to model_init_exp_16_2023-10-1012_32_11.200412/model-00017-0.06012-0.98341-2.95604-0.54000.h5\n",
            "11/11 [==============================] - 80s 8s/step - loss: 0.0601 - categorical_accuracy: 0.9834 - val_loss: 2.9560 - val_categorical_accuracy: 0.5400 - lr: 0.0020\n",
            "Epoch 18/25\n",
            "11/11 [==============================] - ETA: 0s - loss: 0.0398 - categorical_accuracy: 0.9925\n",
            "Epoch 18: saving model to model_init_exp_16_2023-10-1012_32_11.200412/model-00018-0.03982-0.99246-2.46748-0.56000.h5\n",
            "11/11 [==============================] - 69s 7s/step - loss: 0.0398 - categorical_accuracy: 0.9925 - val_loss: 2.4675 - val_categorical_accuracy: 0.5600 - lr: 0.0020\n",
            "Epoch 19/25\n",
            "11/11 [==============================] - ETA: 0s - loss: 0.0316 - categorical_accuracy: 0.9940\n",
            "Epoch 19: saving model to model_init_exp_16_2023-10-1012_32_11.200412/model-00019-0.03155-0.99397-2.36308-0.56000.h5\n",
            "11/11 [==============================] - 80s 8s/step - loss: 0.0316 - categorical_accuracy: 0.9940 - val_loss: 2.3631 - val_categorical_accuracy: 0.5600 - lr: 0.0020\n",
            "Epoch 20/25\n",
            "11/11 [==============================] - ETA: 0s - loss: 0.0350 - categorical_accuracy: 0.9925\n",
            "Epoch 20: saving model to model_init_exp_16_2023-10-1012_32_11.200412/model-00020-0.03496-0.99246-1.91420-0.57000.h5\n",
            "11/11 [==============================] - 70s 7s/step - loss: 0.0350 - categorical_accuracy: 0.9925 - val_loss: 1.9142 - val_categorical_accuracy: 0.5700 - lr: 0.0020\n",
            "Epoch 21/25\n",
            "11/11 [==============================] - ETA: 0s - loss: 0.0334 - categorical_accuracy: 0.9940\n",
            "Epoch 21: saving model to model_init_exp_16_2023-10-1012_32_11.200412/model-00021-0.03343-0.99397-1.97656-0.55000.h5\n",
            "11/11 [==============================] - 78s 8s/step - loss: 0.0334 - categorical_accuracy: 0.9940 - val_loss: 1.9766 - val_categorical_accuracy: 0.5500 - lr: 0.0020\n",
            "Epoch 22/25\n",
            "11/11 [==============================] - ETA: 0s - loss: 0.0241 - categorical_accuracy: 0.9985\n",
            "Epoch 22: saving model to model_init_exp_16_2023-10-1012_32_11.200412/model-00022-0.02408-0.99849-1.98435-0.56000.h5\n",
            "11/11 [==============================] - 71s 7s/step - loss: 0.0241 - categorical_accuracy: 0.9985 - val_loss: 1.9844 - val_categorical_accuracy: 0.5600 - lr: 0.0020\n",
            "Epoch 23/25\n",
            "11/11 [==============================] - ETA: 0s - loss: 0.0187 - categorical_accuracy: 1.0000\n",
            "Epoch 23: saving model to model_init_exp_16_2023-10-1012_32_11.200412/model-00023-0.01871-1.00000-1.73113-0.57000.h5\n",
            "11/11 [==============================] - 77s 8s/step - loss: 0.0187 - categorical_accuracy: 1.0000 - val_loss: 1.7311 - val_categorical_accuracy: 0.5700 - lr: 0.0020\n",
            "Epoch 24/25\n",
            "11/11 [==============================] - ETA: 0s - loss: 0.0133 - categorical_accuracy: 1.0000\n",
            "Epoch 24: saving model to model_init_exp_16_2023-10-1012_32_11.200412/model-00024-0.01331-1.00000-1.74178-0.58000.h5\n",
            "11/11 [==============================] - 70s 7s/step - loss: 0.0133 - categorical_accuracy: 1.0000 - val_loss: 1.7418 - val_categorical_accuracy: 0.5800 - lr: 0.0020\n",
            "Epoch 25/25\n",
            "11/11 [==============================] - ETA: 0s - loss: 0.0174 - categorical_accuracy: 0.9970\n",
            "Epoch 25: saving model to model_init_exp_16_2023-10-1012_32_11.200412/model-00025-0.01740-0.99698-1.70370-0.58000.h5\n",
            "11/11 [==============================] - 78s 8s/step - loss: 0.0174 - categorical_accuracy: 0.9970 - val_loss: 1.7037 - val_categorical_accuracy: 0.5800 - lr: 0.0020\n"
          ]
        }
      ]
    },
    {
      "cell_type": "code",
      "source": [],
      "metadata": {
        "id": "i-47C2YQ7zqW"
      },
      "execution_count": null,
      "outputs": []
    },
    {
      "cell_type": "markdown",
      "source": [],
      "metadata": {
        "id": "Wz_1IBhSKU85"
      }
    },
    {
      "cell_type": "code",
      "source": [
        "plt.figure(figsize=(20,6))\n",
        "ax1 = plt.subplot(121)\n",
        "ax1 = plt.plot(model1.history['loss'])\n",
        "ax1 = plt.plot(model1.history['val_loss'])\n",
        "plt.title('Model 1 loss')\n",
        "plt.ylabel('loss')\n",
        "plt.xlabel('epoch')\n",
        "plt.legend(['train', 'validation'], loc='lower left')\n",
        "ax2 = plt.subplot(122)\n",
        "ax2 = plt.plot(model1.history['categorical_accuracy'])\n",
        "ax2 = plt.plot(model1.history['val_categorical_accuracy'])\n",
        "plt.title('Model 1 accuracy')\n",
        "plt.ylabel('categorical_accuracy')\n",
        "plt.xlabel('epoch')\n",
        "plt.legend(['train', 'validation'], loc='lower left')\n"
      ],
      "metadata": {
        "id": "CNoBES2sJD9c",
        "colab": {
          "base_uri": "https://localhost:8080/",
          "height": 565
        },
        "outputId": "3b004e87-b592-4931-acf9-7e54a261f931"
      },
      "execution_count": null,
      "outputs": [
        {
          "output_type": "execute_result",
          "data": {
            "text/plain": [
              "<matplotlib.legend.Legend at 0x7d9b3aac8400>"
            ]
          },
          "metadata": {},
          "execution_count": 15
        },
        {
          "output_type": "display_data",
          "data": {
            "text/plain": [
              "<Figure size 2000x600 with 2 Axes>"
            ],
            "image/png": "[encoded data removed]"
          },
          "metadata": {}
        }
      ]
    },
    {
      "cell_type": "markdown",
      "source": [
        "# Model 2"
      ],
      "metadata": {
        "id": "n7fg4gYGKaZa"
      }
    },
    {
      "cell_type": "code",
      "source": [
        "curr_dt_time = datetime.datetime.now()\n",
        "train_path = '/content/drive/My Drive/Project_data/Project_data/train'\n",
        "val_path = '/content/drive/My Drive/Project_data/Project_data/val'\n",
        "num_train_sequences = len(train_doc)\n",
        "print('# training sequences =', num_train_sequences)\n",
        "num_val_sequences = len(val_doc)\n",
        "print('# validation sequences =', num_val_sequences)\n",
        "num_epochs = 15\n",
        "print ('# epochs =', num_epochs)\n",
        "num_classes = 5\n",
        "batch_size = 32"
      ],
      "metadata": {
        "id": "VB2dTPLftuI-",
        "outputId": "a2e598d2-4cec-403f-ae8a-8e8321d476c7",
        "colab": {
          "base_uri": "https://localhost:8080/"
        }
      },
      "execution_count": null,
      "outputs": [
        {
          "output_type": "stream",
          "name": "stdout",
          "text": [
            "# training sequences = 663\n",
            "# validation sequences = 100\n",
            "# epochs = 30\n"
          ]
        }
      ]
    },
    {
      "cell_type": "code",
      "source": [
        "#model 2\n",
        "model = Sequential()\n",
        "model.add(Conv3D(32,kernel_size=3,activation='relu',input_shape=(10,50,50,3)))\n",
        "model.add(Conv3D(64,kernel_size=3,activation='relu'))\n",
        "model.add(MaxPooling3D(pool_size=(2,2,2)))\n",
        "model.add(BatchNormalization())\n",
        "model.add(Dropout(0.5))\n",
        "\n",
        "model.add(Conv3D(128,kernel_size=3,activation='relu'))\n",
        "model.add(MaxPooling3D(pool_size=(1,2,2)))\n",
        "model.add(BatchNormalization())\n",
        "model.add(Dropout(0.5))\n",
        "\n",
        "model.add(Conv3D(256,kernel_size=(1,3,3),activation='relu'))\n",
        "model.add(MaxPooling3D(pool_size=(1,2,2)))\n",
        "model.add(BatchNormalization())\n",
        "model.add(Dropout(0.5))\n",
        "\n",
        "model.add(Conv3D(512,kernel_size=(1,3,3),activation='relu'))\n",
        "model.add(MaxPooling3D(pool_size=(1,2,2)))\n",
        "model.add(BatchNormalization())\n",
        "model.add(Dropout(0.5))\n",
        "\n",
        "model.add(Flatten())\n",
        "model.add(Dense(512,activation='relu'))\n",
        "model.add(BatchNormalization())\n",
        "model.add(Dense(5,activation='softmax'))"
      ],
      "metadata": {
        "id": "V3xdvP6-RpTC"
      },
      "execution_count": null,
      "outputs": []
    },
    {
      "cell_type": "code",
      "source": [
        "optimizer = tf.keras.optimizers.Adam(learning_rate=0.01)  #write your optimizer\n",
        "model.compile(optimizer=optimizer, loss='categorical_crossentropy', metrics=['categorical_accuracy'])\n",
        "print (model.summary())"
      ],
      "metadata": {
        "id": "CrxdDyFEYH1T",
        "colab": {
          "base_uri": "https://localhost:8080/"
        },
        "outputId": "b9324481-a44b-493b-c2fe-e7df677a84e8"
      },
      "execution_count": null,
      "outputs": [
        {
          "output_type": "stream",
          "name": "stdout",
          "text": [
            "Model: \"sequential_1\"\n",
            "_________________________________________________________________\n",
            " Layer (type)                Output Shape              Param #   \n",
            "=================================================================\n",
            " conv3d_5 (Conv3D)           (None, 8, 48, 48, 32)     2624      \n",
            "                                                                 \n",
            " conv3d_6 (Conv3D)           (None, 6, 46, 46, 64)     55360     \n",
            "                                                                 \n",
            " max_pooling3d_4 (MaxPoolin  (None, 3, 23, 23, 64)     0         \n",
            " g3D)                                                            \n",
            "                                                                 \n",
            " batch_normalization_5 (Bat  (None, 3, 23, 23, 64)     256       \n",
            " chNormalization)                                                \n",
            "                                                                 \n",
            " dropout (Dropout)           (None, 3, 23, 23, 64)     0         \n",
            "                                                                 \n",
            " conv3d_7 (Conv3D)           (None, 1, 21, 21, 128)    221312    \n",
            "                                                                 \n",
            " max_pooling3d_5 (MaxPoolin  (None, 1, 10, 10, 128)    0         \n",
            " g3D)                                                            \n",
            "                                                                 \n",
            " batch_normalization_6 (Bat  (None, 1, 10, 10, 128)    512       \n",
            " chNormalization)                                                \n",
            "                                                                 \n",
            " dropout_1 (Dropout)         (None, 1, 10, 10, 128)    0         \n",
            "                                                                 \n",
            " conv3d_8 (Conv3D)           (None, 1, 8, 8, 256)      295168    \n",
            "                                                                 \n",
            " max_pooling3d_6 (MaxPoolin  (None, 1, 4, 4, 256)      0         \n",
            " g3D)                                                            \n",
            "                                                                 \n",
            " batch_normalization_7 (Bat  (None, 1, 4, 4, 256)      1024      \n",
            " chNormalization)                                                \n",
            "                                                                 \n",
            " dropout_2 (Dropout)         (None, 1, 4, 4, 256)      0         \n",
            "                                                                 \n",
            " conv3d_9 (Conv3D)           (None, 1, 2, 2, 512)      1180160   \n",
            "                                                                 \n",
            " max_pooling3d_7 (MaxPoolin  (None, 1, 1, 1, 512)      0         \n",
            " g3D)                                                            \n",
            "                                                                 \n",
            " batch_normalization_8 (Bat  (None, 1, 1, 1, 512)      2048      \n",
            " chNormalization)                                                \n",
            "                                                                 \n",
            " dropout_3 (Dropout)         (None, 1, 1, 1, 512)      0         \n",
            "                                                                 \n",
            " flatten_1 (Flatten)         (None, 512)               0         \n",
            "                                                                 \n",
            " dense_2 (Dense)             (None, 512)               262656    \n",
            "                                                                 \n",
            " batch_normalization_9 (Bat  (None, 512)               2048      \n",
            " chNormalization)                                                \n",
            "                                                                 \n",
            " dense_3 (Dense)             (None, 5)                 2565      \n",
            "                                                                 \n",
            "=================================================================\n",
            "Total params: 2025733 (7.73 MB)\n",
            "Trainable params: 2022789 (7.72 MB)\n",
            "Non-trainable params: 2944 (11.50 KB)\n",
            "_________________________________________________________________\n",
            "None\n"
          ]
        }
      ]
    },
    {
      "cell_type": "code",
      "source": [
        "train_generator = generator(train_path, train_doc, batch_size)\n",
        "val_generator = generator(val_path, val_doc, batch_size)"
      ],
      "metadata": {
        "id": "yJa2MFEpuI1a"
      },
      "execution_count": null,
      "outputs": []
    },
    {
      "cell_type": "code",
      "source": [
        "model_name = 'model_init_exp_16' + '_' + str(curr_dt_time).replace(' ','').replace(':','_') + '/'\n",
        "\n",
        "if not os.path.exists(model_name):\n",
        "    os.mkdir(model_name)\n",
        "\n",
        "filepath = model_name + 'model-{epoch:05d}-{loss:.5f}-{categorical_accuracy:.5f}-{val_loss:.5f}-{val_categorical_accuracy:.5f}.h5'\n",
        "\n",
        "checkpoint = ModelCheckpoint(filepath, monitor='val_loss', verbose=1, save_best_only=False, save_weights_only=False, mode='auto', period=1)\n",
        "\n",
        "LR = ReduceLROnPlateau(monitor='val_loss', factor=0.2, patience=5, min_lr=0.001, verbose=1) # write the REducelronplateau code here\n",
        "\n",
        "callbacks_list = [checkpoint, LR]"
      ],
      "metadata": {
        "id": "7vBi4Pl9KEhf",
        "colab": {
          "base_uri": "https://localhost:8080/"
        },
        "outputId": "c761cf1d-5a00-47eb-8af9-3976560c2cfa"
      },
      "execution_count": null,
      "outputs": [
        {
          "output_type": "stream",
          "name": "stderr",
          "text": [
            "WARNING:tensorflow:`period` argument is deprecated. Please use `save_freq` to specify the frequency in number of batches seen.\n"
          ]
        }
      ]
    },
    {
      "cell_type": "code",
      "source": [
        "if (num_train_sequences%batch_size) == 0:\n",
        "    steps_per_epoch = int(num_train_sequences/batch_size)\n",
        "else:\n",
        "    steps_per_epoch = (num_train_sequences//batch_size) + 1\n",
        "\n",
        "if (num_val_sequences%batch_size) == 0:\n",
        "    validation_steps = int(num_val_sequences/batch_size)\n",
        "else:\n",
        "    validation_steps = (num_val_sequences//batch_size) + 1"
      ],
      "metadata": {
        "id": "yKp9RqcaKEkx"
      },
      "execution_count": null,
      "outputs": []
    },
    {
      "cell_type": "code",
      "source": [
        "model2 = model.fit_generator(train_generator, steps_per_epoch=steps_per_epoch, epochs=num_epochs, verbose=1,\n",
        "                    callbacks=callbacks_list, validation_data=val_generator,\n",
        "                    validation_steps=validation_steps, class_weight=None, workers=1, initial_epoch=0)"
      ],
      "metadata": {
        "id": "ACPpTzREKEoE",
        "colab": {
          "base_uri": "https://localhost:8080/"
        },
        "outputId": "c0e7c4c0-969e-4523-a912-c51e550df897"
      },
      "execution_count": null,
      "outputs": [
        {
          "output_type": "stream",
          "name": "stdout",
          "text": [
            "Source path =  /content/drive/My Drive/Project_data/Project_data/train ; batch size = 64\n",
            "Epoch 1/30\n",
            "11/11 [==============================] - ETA: 0s - loss: 3.1372 - categorical_accuracy: 0.2986Source path =  /content/drive/My Drive/Project_data/Project_data/val ; batch size = 64\n",
            "\n",
            "Epoch 1: saving model to model_init_exp_16_2023-10-1013_48_27.754339/model-00001-3.13716-0.29864-3967.06348-0.21000.h5\n",
            "11/11 [==============================] - 94s 9s/step - loss: 3.1372 - categorical_accuracy: 0.2986 - val_loss: 3967.0635 - val_categorical_accuracy: 0.2100 - lr: 0.0100\n",
            "Epoch 2/30\n",
            "11/11 [==============================] - ETA: 0s - loss: 1.4888 - categorical_accuracy: 0.4314\n",
            "Epoch 2: saving model to model_init_exp_16_2023-10-1013_48_27.754339/model-00002-1.48877-0.43137-1510.75879-0.22000.h5\n",
            "11/11 [==============================] - 71s 7s/step - loss: 1.4888 - categorical_accuracy: 0.4314 - val_loss: 1510.7588 - val_categorical_accuracy: 0.2200 - lr: 0.0100\n",
            "Epoch 3/30\n",
            "11/11 [==============================] - ETA: 0s - loss: 1.2642 - categorical_accuracy: 0.4796\n",
            "Epoch 3: saving model to model_init_exp_16_2023-10-1013_48_27.754339/model-00003-1.26417-0.47964-443.48819-0.23000.h5\n",
            "11/11 [==============================] - 79s 8s/step - loss: 1.2642 - categorical_accuracy: 0.4796 - val_loss: 443.4882 - val_categorical_accuracy: 0.2300 - lr: 0.0100\n",
            "Epoch 4/30\n",
            "11/11 [==============================] - ETA: 0s - loss: 1.1880 - categorical_accuracy: 0.5309\n",
            "Epoch 4: saving model to model_init_exp_16_2023-10-1013_48_27.754339/model-00004-1.18805-0.53092-103.03767-0.27000.h5\n",
            "11/11 [==============================] - 70s 7s/step - loss: 1.1880 - categorical_accuracy: 0.5309 - val_loss: 103.0377 - val_categorical_accuracy: 0.2700 - lr: 0.0100\n",
            "Epoch 5/30\n",
            "11/11 [==============================] - ETA: 0s - loss: 1.0040 - categorical_accuracy: 0.5732\n",
            "Epoch 5: saving model to model_init_exp_16_2023-10-1013_48_27.754339/model-00005-1.00402-0.57315-72.19571-0.23000.h5\n",
            "11/11 [==============================] - 79s 8s/step - loss: 1.0040 - categorical_accuracy: 0.5732 - val_loss: 72.1957 - val_categorical_accuracy: 0.2300 - lr: 0.0100\n",
            "Epoch 6/30\n",
            "11/11 [==============================] - ETA: 0s - loss: 1.0167 - categorical_accuracy: 0.6003\n",
            "Epoch 6: saving model to model_init_exp_16_2023-10-1013_48_27.754339/model-00006-1.01668-0.60030-70.87370-0.25000.h5\n",
            "11/11 [==============================] - 87s 9s/step - loss: 1.0167 - categorical_accuracy: 0.6003 - val_loss: 70.8737 - val_categorical_accuracy: 0.2500 - lr: 0.0100\n",
            "Epoch 7/30\n",
            "11/11 [==============================] - ETA: 0s - loss: 0.9175 - categorical_accuracy: 0.6275\n",
            "Epoch 7: saving model to model_init_exp_16_2023-10-1013_48_27.754339/model-00007-0.91749-0.62745-53.58321-0.18000.h5\n",
            "11/11 [==============================] - 66s 7s/step - loss: 0.9175 - categorical_accuracy: 0.6275 - val_loss: 53.5832 - val_categorical_accuracy: 0.1800 - lr: 0.0100\n",
            "Epoch 8/30\n",
            "11/11 [==============================] - ETA: 0s - loss: 0.8782 - categorical_accuracy: 0.6501\n",
            "Epoch 8: saving model to model_init_exp_16_2023-10-1013_48_27.754339/model-00008-0.87821-0.65008-22.54289-0.23000.h5\n",
            "11/11 [==============================] - 70s 7s/step - loss: 0.8782 - categorical_accuracy: 0.6501 - val_loss: 22.5429 - val_categorical_accuracy: 0.2300 - lr: 0.0100\n",
            "Epoch 9/30\n",
            "11/11 [==============================] - ETA: 0s - loss: 0.8537 - categorical_accuracy: 0.6591\n",
            "Epoch 9: saving model to model_init_exp_16_2023-10-1013_48_27.754339/model-00009-0.85371-0.65913-18.58700-0.20000.h5\n",
            "11/11 [==============================] - 81s 8s/step - loss: 0.8537 - categorical_accuracy: 0.6591 - val_loss: 18.5870 - val_categorical_accuracy: 0.2000 - lr: 0.0100\n",
            "Epoch 10/30\n",
            "11/11 [==============================] - ETA: 0s - loss: 0.8036 - categorical_accuracy: 0.6893\n",
            "Epoch 10: saving model to model_init_exp_16_2023-10-1013_48_27.754339/model-00010-0.80361-0.68929-6.82537-0.28000.h5\n",
            "11/11 [==============================] - 70s 7s/step - loss: 0.8036 - categorical_accuracy: 0.6893 - val_loss: 6.8254 - val_categorical_accuracy: 0.2800 - lr: 0.0100\n",
            "Epoch 11/30\n",
            "11/11 [==============================] - ETA: 0s - loss: 0.7405 - categorical_accuracy: 0.7029\n",
            "Epoch 11: saving model to model_init_exp_16_2023-10-1013_48_27.754339/model-00011-0.74048-0.70287-13.12593-0.24000.h5\n",
            "11/11 [==============================] - 80s 8s/step - loss: 0.7405 - categorical_accuracy: 0.7029 - val_loss: 13.1259 - val_categorical_accuracy: 0.2400 - lr: 0.0100\n",
            "Epoch 12/30\n",
            "11/11 [==============================] - ETA: 0s - loss: 0.7620 - categorical_accuracy: 0.7089\n",
            "Epoch 12: saving model to model_init_exp_16_2023-10-1013_48_27.754339/model-00012-0.76196-0.70890-3.97439-0.39000.h5\n",
            "11/11 [==============================] - 72s 7s/step - loss: 0.7620 - categorical_accuracy: 0.7089 - val_loss: 3.9744 - val_categorical_accuracy: 0.3900 - lr: 0.0100\n",
            "Epoch 13/30\n",
            "11/11 [==============================] - ETA: 0s - loss: 0.7341 - categorical_accuracy: 0.7436\n",
            "Epoch 13: saving model to model_init_exp_16_2023-10-1013_48_27.754339/model-00013-0.73414-0.74359-17.00440-0.25000.h5\n",
            "11/11 [==============================] - 78s 8s/step - loss: 0.7341 - categorical_accuracy: 0.7436 - val_loss: 17.0044 - val_categorical_accuracy: 0.2500 - lr: 0.0100\n",
            "Epoch 14/30\n",
            "11/11 [==============================] - ETA: 0s - loss: 0.6548 - categorical_accuracy: 0.7511\n",
            "Epoch 14: saving model to model_init_exp_16_2023-10-1013_48_27.754339/model-00014-0.65479-0.75113-15.64000-0.24000.h5\n",
            "11/11 [==============================] - 71s 7s/step - loss: 0.6548 - categorical_accuracy: 0.7511 - val_loss: 15.6400 - val_categorical_accuracy: 0.2400 - lr: 0.0100\n",
            "Epoch 15/30\n",
            "11/11 [==============================] - ETA: 0s - loss: 0.6294 - categorical_accuracy: 0.7526\n",
            "Epoch 15: saving model to model_init_exp_16_2023-10-1013_48_27.754339/model-00015-0.62944-0.75264-8.56998-0.24000.h5\n",
            "11/11 [==============================] - 80s 8s/step - loss: 0.6294 - categorical_accuracy: 0.7526 - val_loss: 8.5700 - val_categorical_accuracy: 0.2400 - lr: 0.0100\n",
            "Epoch 16/30\n",
            "11/11 [==============================] - ETA: 0s - loss: 0.5283 - categorical_accuracy: 0.7768\n",
            "Epoch 16: saving model to model_init_exp_16_2023-10-1013_48_27.754339/model-00016-0.52828-0.77677-10.83867-0.32000.h5\n",
            "11/11 [==============================] - 70s 7s/step - loss: 0.5283 - categorical_accuracy: 0.7768 - val_loss: 10.8387 - val_categorical_accuracy: 0.3200 - lr: 0.0100\n",
            "Epoch 17/30\n",
            "11/11 [==============================] - ETA: 0s - loss: 0.5673 - categorical_accuracy: 0.7738\n",
            "Epoch 17: saving model to model_init_exp_16_2023-10-1013_48_27.754339/model-00017-0.56730-0.77376-6.07186-0.33000.h5\n",
            "\n",
            "Epoch 17: ReduceLROnPlateau reducing learning rate to 0.0019999999552965165.\n",
            "11/11 [==============================] - 78s 8s/step - loss: 0.5673 - categorical_accuracy: 0.7738 - val_loss: 6.0719 - val_categorical_accuracy: 0.3300 - lr: 0.0100\n",
            "Epoch 18/30\n",
            "11/11 [==============================] - ETA: 0s - loss: 0.4134 - categorical_accuracy: 0.8492\n",
            "Epoch 18: saving model to model_init_exp_16_2023-10-1013_48_27.754339/model-00018-0.41337-0.84917-2.17266-0.47000.h5\n",
            "11/11 [==============================] - 73s 7s/step - loss: 0.4134 - categorical_accuracy: 0.8492 - val_loss: 2.1727 - val_categorical_accuracy: 0.4700 - lr: 0.0020\n",
            "Epoch 19/30\n",
            "11/11 [==============================] - ETA: 0s - loss: 0.3464 - categorical_accuracy: 0.8688\n",
            "Epoch 19: saving model to model_init_exp_16_2023-10-1013_48_27.754339/model-00019-0.34636-0.86878-1.84242-0.50000.h5\n",
            "11/11 [==============================] - 79s 8s/step - loss: 0.3464 - categorical_accuracy: 0.8688 - val_loss: 1.8424 - val_categorical_accuracy: 0.5000 - lr: 0.0020\n",
            "Epoch 20/30\n",
            "11/11 [==============================] - ETA: 0s - loss: 0.3389 - categorical_accuracy: 0.8703\n",
            "Epoch 20: saving model to model_init_exp_16_2023-10-1013_48_27.754339/model-00020-0.33892-0.87029-1.08350-0.61000.h5\n",
            "11/11 [==============================] - 70s 7s/step - loss: 0.3389 - categorical_accuracy: 0.8703 - val_loss: 1.0835 - val_categorical_accuracy: 0.6100 - lr: 0.0020\n",
            "Epoch 21/30\n",
            "11/11 [==============================] - ETA: 0s - loss: 0.3635 - categorical_accuracy: 0.8718\n",
            "Epoch 21: saving model to model_init_exp_16_2023-10-1013_48_27.754339/model-00021-0.36351-0.87179-1.14939-0.60000.h5\n",
            "11/11 [==============================] - 79s 8s/step - loss: 0.3635 - categorical_accuracy: 0.8718 - val_loss: 1.1494 - val_categorical_accuracy: 0.6000 - lr: 0.0020\n",
            "Epoch 22/30\n",
            "11/11 [==============================] - ETA: 0s - loss: 0.3372 - categorical_accuracy: 0.8733\n",
            "Epoch 22: saving model to model_init_exp_16_2023-10-1013_48_27.754339/model-00022-0.33718-0.87330-1.30932-0.55000.h5\n",
            "11/11 [==============================] - 71s 7s/step - loss: 0.3372 - categorical_accuracy: 0.8733 - val_loss: 1.3093 - val_categorical_accuracy: 0.5500 - lr: 0.0020\n",
            "Epoch 23/30\n",
            "11/11 [==============================] - ETA: 0s - loss: 0.3432 - categorical_accuracy: 0.8703\n",
            "Epoch 23: saving model to model_init_exp_16_2023-10-1013_48_27.754339/model-00023-0.34315-0.87029-1.12543-0.61000.h5\n",
            "11/11 [==============================] - 77s 8s/step - loss: 0.3432 - categorical_accuracy: 0.8703 - val_loss: 1.1254 - val_categorical_accuracy: 0.6100 - lr: 0.0020\n",
            "Epoch 24/30\n",
            "11/11 [==============================] - ETA: 0s - loss: 0.2997 - categorical_accuracy: 0.8854\n",
            "Epoch 24: saving model to model_init_exp_16_2023-10-1013_48_27.754339/model-00024-0.29966-0.88537-1.23915-0.56000.h5\n",
            "11/11 [==============================] - 71s 7s/step - loss: 0.2997 - categorical_accuracy: 0.8854 - val_loss: 1.2391 - val_categorical_accuracy: 0.5600 - lr: 0.0020\n",
            "Epoch 25/30\n",
            "11/11 [==============================] - ETA: 0s - loss: 0.2802 - categorical_accuracy: 0.8989\n",
            "Epoch 25: saving model to model_init_exp_16_2023-10-1013_48_27.754339/model-00025-0.28025-0.89894-1.18449-0.59000.h5\n",
            "\n",
            "Epoch 25: ReduceLROnPlateau reducing learning rate to 0.001.\n",
            "11/11 [==============================] - 78s 8s/step - loss: 0.2802 - categorical_accuracy: 0.8989 - val_loss: 1.1845 - val_categorical_accuracy: 0.5900 - lr: 0.0020\n",
            "Epoch 26/30\n",
            "11/11 [==============================] - ETA: 0s - loss: 0.2586 - categorical_accuracy: 0.9035\n",
            "Epoch 26: saving model to model_init_exp_16_2023-10-1013_48_27.754339/model-00026-0.25861-0.90347-1.67589-0.50000.h5\n",
            "11/11 [==============================] - 71s 7s/step - loss: 0.2586 - categorical_accuracy: 0.9035 - val_loss: 1.6759 - val_categorical_accuracy: 0.5000 - lr: 0.0010\n",
            "Epoch 27/30\n",
            "11/11 [==============================] - ETA: 0s - loss: 0.2487 - categorical_accuracy: 0.9110\n",
            "Epoch 27: saving model to model_init_exp_16_2023-10-1013_48_27.754339/model-00027-0.24873-0.91101-1.59593-0.52000.h5\n",
            "11/11 [==============================] - 80s 8s/step - loss: 0.2487 - categorical_accuracy: 0.9110 - val_loss: 1.5959 - val_categorical_accuracy: 0.5200 - lr: 0.0010\n",
            "Epoch 28/30\n",
            "11/11 [==============================] - ETA: 0s - loss: 0.2542 - categorical_accuracy: 0.9155\n",
            "Epoch 28: saving model to model_init_exp_16_2023-10-1013_48_27.754339/model-00028-0.25419-0.91554-0.98364-0.64000.h5\n",
            "11/11 [==============================] - 69s 7s/step - loss: 0.2542 - categorical_accuracy: 0.9155 - val_loss: 0.9836 - val_categorical_accuracy: 0.6400 - lr: 0.0010\n",
            "Epoch 29/30\n",
            "11/11 [==============================] - ETA: 0s - loss: 0.2780 - categorical_accuracy: 0.9095\n",
            "Epoch 29: saving model to model_init_exp_16_2023-10-1013_48_27.754339/model-00029-0.27804-0.90950-1.19440-0.56000.h5\n",
            "11/11 [==============================] - 80s 8s/step - loss: 0.2780 - categorical_accuracy: 0.9095 - val_loss: 1.1944 - val_categorical_accuracy: 0.5600 - lr: 0.0010\n",
            "Epoch 30/30\n",
            "11/11 [==============================] - ETA: 0s - loss: 0.2567 - categorical_accuracy: 0.9005\n",
            "Epoch 30: saving model to model_init_exp_16_2023-10-1013_48_27.754339/model-00030-0.25670-0.90045-1.28017-0.54000.h5\n",
            "11/11 [==============================] - 71s 7s/step - loss: 0.2567 - categorical_accuracy: 0.9005 - val_loss: 1.2802 - val_categorical_accuracy: 0.5400 - lr: 0.0010\n"
          ]
        }
      ]
    },
    {
      "cell_type": "code",
      "source": [
        "plt.figure(figsize=(20,6))\n",
        "ax1 = plt.subplot(121)\n",
        "ax1 = plt.plot(model2.history['loss'])\n",
        "ax1 = plt.plot(model2.history['val_loss'])\n",
        "plt.title('Model 2 loss')\n",
        "plt.ylabel('loss')\n",
        "plt.xlabel('epoch')\n",
        "plt.legend(['train', 'validation'], loc='lower left')\n",
        "ax2 = plt.subplot(122)\n",
        "ax2 = plt.plot(model2.history['categorical_accuracy'])\n",
        "ax2 = plt.plot(model2.history['val_categorical_accuracy'])\n",
        "plt.title('Model 2 accuracy')\n",
        "plt.ylabel('categorical_accuracy')\n",
        "plt.xlabel('epoch')\n",
        "plt.legend(['train', 'validation'], loc='lower left')"
      ],
      "metadata": {
        "id": "lYQTsL8IKEqt",
        "colab": {
          "base_uri": "https://localhost:8080/",
          "height": 566
        },
        "outputId": "8d04f5ae-f12b-41ac-cca2-599ac186ba1d"
      },
      "execution_count": null,
      "outputs": [
        {
          "output_type": "execute_result",
          "data": {
            "text/plain": [
              "<matplotlib.legend.Legend at 0x7d9b6048a620>"
            ]
          },
          "metadata": {},
          "execution_count": 23
        },
        {
          "output_type": "display_data",
          "data": {
            "text/plain": [
              "<Figure size 2000x600 with 2 Axes>"
            ],
            "image/png": "[encoded data removed]"
          },
          "metadata": {}
        }
      ]
    },
    {
      "cell_type": "code",
      "source": [],
      "metadata": {
        "id": "mU7DB0tnKEvZ"
      },
      "execution_count": null,
      "outputs": []
    },
    {
      "cell_type": "markdown",
      "source": [
        "# Model 3"
      ],
      "metadata": {
        "id": "GtAQyRugKlRK"
      }
    },
    {
      "cell_type": "code",
      "source": [
        "curr_dt_time = datetime.datetime.now()\n",
        "train_path = '/content/drive/My Drive/Project_data/Project_data/train'\n",
        "val_path = '/content/drive/My Drive/Project_data/Project_data/val'\n",
        "num_train_sequences = len(train_doc)\n",
        "print('# training sequences =', num_train_sequences)\n",
        "num_val_sequences = len(val_doc)\n",
        "print('# validation sequences =', num_val_sequences)\n",
        "num_epochs = 30\n",
        "print ('# epochs =', num_epochs)\n",
        "num_classes = 5\n",
        "batch_size = 64"
      ],
      "metadata": {
        "id": "DcQ4J3JHKEyU"
      },
      "execution_count": null,
      "outputs": []
    },
    {
      "cell_type": "code",
      "source": [
        "# model3\n",
        "\n",
        "model = Sequential()\n",
        "\n",
        "model.add(TimeDistributed(Conv2D(16,(3,3),activation='relu'),input_shape=(10,50,50,3)))\n",
        "model.add(TimeDistributed(MaxPooling2D(2,2)))\n",
        "model.add(BatchNormalization())\n",
        "\n",
        "model.add(TimeDistributed(Conv2D(32,(3,3),activation='relu')))\n",
        "model.add(TimeDistributed(MaxPooling2D(2,2)))\n",
        "model.add(BatchNormalization())\n",
        "\n",
        "model.add(TimeDistributed(GlobalAveragePooling2D()))\n",
        "model.add(TimeDistributed(Dense(32,activation='relu')))\n",
        "model.add(BatchNormalization())\n",
        "\n",
        "model.add(GRU(128))\n",
        "model.add(BatchNormalization())\n",
        "model.add(Dense(5,activation='softmax'))\n",
        "\n",
        "\n",
        "\n",
        "\n",
        "\n"
      ],
      "metadata": {
        "id": "R82SipLfWRyo"
      },
      "execution_count": null,
      "outputs": []
    },
    {
      "cell_type": "code",
      "source": [],
      "metadata": {
        "id": "hTrEjD0vmtXG"
      },
      "execution_count": null,
      "outputs": []
    },
    {
      "cell_type": "markdown",
      "source": [],
      "metadata": {
        "id": "9eHuQOrnWRVZ"
      }
    },
    {
      "cell_type": "code",
      "source": [],
      "metadata": {
        "id": "NYey4cqRUq9S"
      },
      "execution_count": null,
      "outputs": []
    },
    {
      "cell_type": "markdown",
      "metadata": {
        "id": "VjVqpbP-bMYH"
      },
      "source": [
        "Now that you have written the model, the next step is to `compile` the model. When you print the `summary` of the model, you'll see the total number of parameters you have to train."
      ]
    },
    {
      "cell_type": "code",
      "execution_count": null,
      "metadata": {
        "scrolled": true,
        "colab": {
          "base_uri": "https://localhost:8080/"
        },
        "id": "a1t4yTXsbMYH",
        "outputId": "7693ee2c-02b7-4b6a-a745-3377d608de9c"
      },
      "outputs": [
        {
          "output_type": "stream",
          "name": "stdout",
          "text": [
            "Model: \"sequential_2\"\n",
            "_________________________________________________________________\n",
            " Layer (type)                Output Shape              Param #   \n",
            "=================================================================\n",
            " time_distributed (TimeDist  (None, 10, 48, 48, 16)    448       \n",
            " ributed)                                                        \n",
            "                                                                 \n",
            " time_distributed_1 (TimeDi  (None, 10, 24, 24, 16)    0         \n",
            " stributed)                                                      \n",
            "                                                                 \n",
            " batch_normalization_10 (Ba  (None, 10, 24, 24, 16)    64        \n",
            " tchNormalization)                                               \n",
            "                                                                 \n",
            " time_distributed_2 (TimeDi  (None, 10, 22, 22, 32)    4640      \n",
            " stributed)                                                      \n",
            "                                                                 \n",
            " time_distributed_3 (TimeDi  (None, 10, 11, 11, 32)    0         \n",
            " stributed)                                                      \n",
            "                                                                 \n",
            " batch_normalization_11 (Ba  (None, 10, 11, 11, 32)    128       \n",
            " tchNormalization)                                               \n",
            "                                                                 \n",
            " time_distributed_4 (TimeDi  (None, 10, 32)            0         \n",
            " stributed)                                                      \n",
            "                                                                 \n",
            " time_distributed_5 (TimeDi  (None, 10, 32)            1056      \n",
            " stributed)                                                      \n",
            "                                                                 \n",
            " batch_normalization_12 (Ba  (None, 10, 32)            128       \n",
            " tchNormalization)                                               \n",
            "                                                                 \n",
            " gru (GRU)                   (None, 128)               62208     \n",
            "                                                                 \n",
            " batch_normalization_13 (Ba  (None, 128)               512       \n",
            " tchNormalization)                                               \n",
            "                                                                 \n",
            " dense_5 (Dense)             (None, 5)                 645       \n",
            "                                                                 \n",
            "=================================================================\n",
            "Total params: 69829 (272.77 KB)\n",
            "Trainable params: 69413 (271.14 KB)\n",
            "Non-trainable params: 416 (1.62 KB)\n",
            "_________________________________________________________________\n",
            "None\n"
          ]
        }
      ],
      "source": [
        "optimizer = tf.keras.optimizers.Adam(learning_rate=0.01)  #write your optimizer\n",
        "model.compile(optimizer=optimizer, loss='categorical_crossentropy', metrics=['categorical_accuracy'])\n",
        "print (model.summary())"
      ]
    },
    {
      "cell_type": "markdown",
      "metadata": {
        "id": "6w7CjOrKbMYH"
      },
      "source": [
        "Let us create the `train_generator` and the `val_generator` which will be used in `.fit_generator`."
      ]
    },
    {
      "cell_type": "code",
      "execution_count": null,
      "metadata": {
        "id": "_xoPiReAbMYH"
      },
      "outputs": [],
      "source": [
        "train_generator = generator(train_path, train_doc, batch_size)\n",
        "val_generator = generator(val_path, val_doc, batch_size)"
      ]
    },
    {
      "cell_type": "code",
      "source": [
        "\n",
        "model_name = 'model_init_exp_16' + '_' + str(curr_dt_time).replace(' ','').replace(':','_') + '/'\n",
        "\n",
        "if not os.path.exists(model_name):\n",
        "    os.mkdir(model_name)\n",
        "\n",
        "filepath = model_name + 'model-{epoch:05d}-{loss:.5f}-{categorical_accuracy:.5f}-{val_loss:.5f}-{val_categorical_accuracy:.5f}.h5'\n",
        "\n",
        "checkpoint = ModelCheckpoint(filepath, monitor='val_loss', verbose=1, save_best_only=False, save_weights_only=False, mode='auto', period=1)\n",
        "\n",
        "LR = ReduceLROnPlateau(monitor='val_loss', factor=0.2, patience=5, min_lr=0.001, verbose=1) # write the REducelronplateau code here\n",
        "\n",
        "callbacks_list = [checkpoint, LR]"
      ],
      "metadata": {
        "colab": {
          "base_uri": "https://localhost:8080/"
        },
        "id": "ZCUbbd8-GjDN",
        "outputId": "578c948c-ddfa-4f6a-9fed-193bc49362ba"
      },
      "execution_count": null,
      "outputs": [
        {
          "output_type": "stream",
          "name": "stderr",
          "text": [
            "WARNING:tensorflow:`period` argument is deprecated. Please use `save_freq` to specify the frequency in number of batches seen.\n"
          ]
        }
      ]
    },
    {
      "cell_type": "code",
      "execution_count": null,
      "metadata": {
        "colab": {
          "base_uri": "https://localhost:8080/"
        },
        "id": "RiwmJ11KbMYH",
        "outputId": "939db30b-c8d0-4531-9607-828e80e5542a"
      },
      "outputs": [
        {
          "output_type": "stream",
          "name": "stderr",
          "text": [
            "WARNING:tensorflow:`period` argument is deprecated. Please use `save_freq` to specify the frequency in number of batches seen.\n"
          ]
        }
      ],
      "source": []
    },
    {
      "cell_type": "markdown",
      "metadata": {
        "id": "KvjfR6ofbMYH"
      },
      "source": [
        "The `steps_per_epoch` and `validation_steps` are used by `fit_generator` to decide the number of next() calls it need to make."
      ]
    },
    {
      "cell_type": "code",
      "execution_count": null,
      "metadata": {
        "id": "CVw1iARubMYH"
      },
      "outputs": [],
      "source": [
        "if (num_train_sequences%batch_size) == 0:\n",
        "    steps_per_epoch = int(num_train_sequences/batch_size)\n",
        "else:\n",
        "    steps_per_epoch = (num_train_sequences//batch_size) + 1\n",
        "\n",
        "if (num_val_sequences%batch_size) == 0:\n",
        "    validation_steps = int(num_val_sequences/batch_size)\n",
        "else:\n",
        "    validation_steps = (num_val_sequences//batch_size) + 1"
      ]
    },
    {
      "cell_type": "markdown",
      "metadata": {
        "id": "wfw6RaMUbMYH"
      },
      "source": [
        "Let us now fit the model. This will start training the model and with the help of the checkpoints, you'll be able to save the model at the end of each epoch."
      ]
    },
    {
      "cell_type": "code",
      "execution_count": null,
      "metadata": {
        "colab": {
          "base_uri": "https://localhost:8080/"
        },
        "id": "_fYqsLeZbMYH",
        "outputId": "9c937e54-4ba9-4395-f68d-c800a9baa4b3"
      },
      "outputs": [
        {
          "output_type": "stream",
          "name": "stdout",
          "text": [
            "Source path =  /content/drive/My Drive/Project_data/Project_data/train ; batch size = 64\n"
          ]
        }
      ],
      "source": [
        "model3 = model.fit_generator(train_generator, steps_per_epoch=steps_per_epoch, epochs=num_epochs, verbose=1,\n",
        "                    callbacks=callbacks_list, validation_data=val_generator,\n",
        "                    validation_steps=validation_steps, class_weight=None, workers=1, initial_epoch=0)"
      ]
    },
    {
      "cell_type": "code",
      "source": [
        "plt.figure(figsize=(20,6))\n",
        "ax1 = plt.subplot(121)\n",
        "ax1 = plt.plot(model3.history['loss'])\n",
        "ax1 = plt.plot(model3.history['val_loss'])\n",
        "plt.title('Model 3 loss')\n",
        "plt.ylabel('loss')\n",
        "plt.xlabel('epoch')\n",
        "plt.legend(['train', 'validation'], loc='lower left')\n",
        "ax2 = plt.subplot(122)\n",
        "ax2 = plt.plot(model3.history['categorical_accuracy'])\n",
        "ax2 = plt.plot(model3.history['val_categorical_accuracy'])\n",
        "plt.title('Model 3 accuracy')\n",
        "plt.ylabel('categorical_accuracy')\n",
        "plt.xlabel('epoch')\n",
        "plt.legend(['train', 'validation'], loc='lower left')"
      ],
      "metadata": {
        "id": "Tc2ofAkg-vpq"
      },
      "execution_count": null,
      "outputs": []
    },
    {
      "cell_type": "code",
      "source": [],
      "metadata": {
        "id": "imWcEMPJ_iuo"
      },
      "execution_count": null,
      "outputs": []
    },
    {
      "cell_type": "markdown",
      "source": [
        "# Model 4"
      ],
      "metadata": {
        "id": "Sy1nhELaL1pM"
      }
    },
    {
      "cell_type": "code",
      "source": [
        "curr_dt_time = datetime.datetime.now()\n",
        "train_path = '/content/drive/My Drive/Project_data/Project_data/train'\n",
        "val_path = '/content/drive/My Drive/Project_data/Project_data/val'\n",
        "num_train_sequences = len(train_doc)\n",
        "print('# training sequences =', num_train_sequences)\n",
        "num_val_sequences = len(val_doc)\n",
        "print('# validation sequences =', num_val_sequences)\n",
        "num_epochs = 15\n",
        "print ('# epochs =', num_epochs)\n",
        "num_classes = 5\n",
        "batch_size = 32"
      ],
      "metadata": {
        "id": "FuWlKF1fMKPL"
      },
      "execution_count": null,
      "outputs": []
    },
    {
      "cell_type": "code",
      "source": [
        "model = Sequential()\n",
        "model.add(TimeDistributed(Conv2D(8,(3,3),activation='relu'),input_shape=(10,50,50,3)))\n",
        "model.add(BatchNormalization())\n",
        "\n",
        "model.add(TimeDistributed(Conv2D(16,(3,3),activation='relu')))\n",
        "model.add(BatchNormalization())\n",
        "\n",
        "model.add(ConvLSTM2D(8,kernel_size=3,return_sequences=False))\n",
        "model.add(TimeDistributed(Dense(64,activation='relu')))\n",
        "model.add(BatchNormalization())\n",
        "\n",
        "model.add(GlobalAveragePooling2D())\n",
        "model.add(Dense(64,activation='relu'))\n",
        "model.add(Dense(5,activation='softmax'))\n",
        "\n"
      ],
      "metadata": {
        "id": "NCtk8oPzLyys"
      },
      "execution_count": null,
      "outputs": []
    },
    {
      "cell_type": "code",
      "source": [
        "optimizer = tf.keras.optimizers.Adam(learning_rate=0.01)  #write your optimizer\n",
        "model.compile(optimizer=optimizer, loss='categorical_crossentropy', metrics=['categorical_accuracy'])\n",
        "print (model.summary())"
      ],
      "metadata": {
        "id": "WZL6wOX2Ns9P"
      },
      "execution_count": null,
      "outputs": []
    },
    {
      "cell_type": "code",
      "source": [
        "train_generator = generator(train_path, train_doc, batch_size)\n",
        "val_generator = generator(val_path, val_doc, batch_size)"
      ],
      "metadata": {
        "id": "tRDAIPhCNs_q"
      },
      "execution_count": null,
      "outputs": []
    },
    {
      "cell_type": "code",
      "source": [
        "\n",
        "model_name = 'model_init_exp_16' + '_' + str(curr_dt_time).replace(' ','').replace(':','_') + '/'\n",
        "\n",
        "if not os.path.exists(model_name):\n",
        "    os.mkdir(model_name)\n",
        "\n",
        "filepath = model_name + 'model-{epoch:05d}-{loss:.5f}-{categorical_accuracy:.5f}-{val_loss:.5f}-{val_categorical_accuracy:.5f}.h5'\n",
        "\n",
        "checkpoint = ModelCheckpoint(filepath, monitor='val_loss', verbose=1, save_best_only=False, save_weights_only=False, mode='auto', period=1)\n",
        "\n",
        "LR = ReduceLROnPlateau(monitor='val_loss', factor=0.2, patience=5, min_lr=0.001, verbose=1) # write the REducelronplateau code here\n",
        "\n",
        "callbacks_list = [checkpoint, LR]"
      ],
      "metadata": {
        "id": "B3_8H_IWNtB4"
      },
      "execution_count": null,
      "outputs": []
    },
    {
      "cell_type": "code",
      "source": [
        "if (num_train_sequences%batch_size) == 0:\n",
        "    steps_per_epoch = int(num_train_sequences/batch_size)\n",
        "else:\n",
        "    steps_per_epoch = (num_train_sequences//batch_size) + 1\n",
        "\n",
        "if (num_val_sequences%batch_size) == 0:\n",
        "    validation_steps = int(num_val_sequences/batch_size)\n",
        "else:\n",
        "    validation_steps = (num_val_sequences//batch_size) + 1"
      ],
      "metadata": {
        "id": "UK44TgeuNtEV"
      },
      "execution_count": null,
      "outputs": []
    },
    {
      "cell_type": "code",
      "source": [
        "model4 = model.fit_generator(train_generator, steps_per_epoch=steps_per_epoch, epochs=num_epochs, verbose=1,\n",
        "                    callbacks=callbacks_list, validation_data=val_generator,\n",
        "                    validation_steps=validation_steps, class_weight=None, workers=1, initial_epoch=0)"
      ],
      "metadata": {
        "id": "RdJtHhvUNtGt"
      },
      "execution_count": null,
      "outputs": []
    },
    {
      "cell_type": "code",
      "source": [
        "plt.figure(figsize=(20,6))\n",
        "ax1 = plt.subplot(121)\n",
        "ax1 = plt.plot(model4.history['loss'])\n",
        "ax1 = plt.plot(model4.history['val_loss'])\n",
        "plt.title('Model 4 loss')\n",
        "plt.ylabel('loss')\n",
        "plt.xlabel('epoch')\n",
        "plt.legend(['train', 'validation'], loc='lower left')\n",
        "ax2 = plt.subplot(122)\n",
        "ax2 = plt.plot(model4.history['categorical_accuracy'])\n",
        "ax2 = plt.plot(model4.history['val_categorical_accuracy'])\n",
        "plt.title('Model 4 accuracy')\n",
        "plt.ylabel('categorical_accuracy')\n",
        "plt.xlabel('epoch')\n",
        "plt.legend(['train', 'validation'], loc='lower left')"
      ],
      "metadata": {
        "id": "ftXf1erGNtJD"
      },
      "execution_count": null,
      "outputs": []
    },
    {
      "cell_type": "code",
      "source": [],
      "metadata": {
        "id": "WUap5t-aNtLm"
      },
      "execution_count": null,
      "outputs": []
    },
    {
      "cell_type": "markdown",
      "source": [
        "# Model 5"
      ],
      "metadata": {
        "id": "ZuicBJK2OFMd"
      }
    },
    {
      "cell_type": "code",
      "source": [
        "curr_dt_time = datetime.datetime.now()\n",
        "train_path = '/content/drive/My Drive/Project_data/Project_data/train'\n",
        "val_path = '/content/drive/My Drive/Project_data/Project_data/val'\n",
        "num_train_sequences = len(train_doc)\n",
        "print('# training sequences =', num_train_sequences)\n",
        "num_val_sequences = len(val_doc)\n",
        "print('# validation sequences =', num_val_sequences)\n",
        "num_epochs = 15\n",
        "print ('# epochs =', num_epochs)\n",
        "num_classes = 5\n",
        "batch_size = 32"
      ],
      "metadata": {
        "id": "nyHn2Q-GMQ22"
      },
      "execution_count": null,
      "outputs": []
    },
    {
      "cell_type": "code",
      "source": [
        "model = Sequential()\n",
        "model.add(TimeDistributed(Conv2D(16,(2,2),padding='same'),input_shape=(10,50,50,3)))\n",
        "model.add(Activation('relu'))\n",
        "model.add(BatchNormalization())\n",
        "model.add(TimeDistributed(Conv2D(16,(2,2))))\n",
        "model.add(Activation('relu'))\n",
        "model.add(TimeDistributed(MaxPooling2D(pool_size=(2,2))))\n",
        "model.add(Dropout(0.25))\n",
        "\n",
        "model.add(TimeDistributed(Conv2D(32,(2,2),padding='same')))\n",
        "model.add(Activation('relu'))\n",
        "model.add(BatchNormalization())\n",
        "model.add(TimeDistributed(Conv2D(32,(2,2))))\n",
        "model.add(Activation('relu'))\n",
        "model.add(TimeDistributed(MaxPooling2D(pool_size=(2,2))))\n",
        "model.add(Dropout(0.25))\n",
        "\n",
        "model.add(TimeDistributed(Flatten()))\n",
        "model.add(LSTM(256,return_sequences=False,dropout=0.5))\n",
        "model.add(Dense(64,kernel_regularizer=l2(0.01)))\n",
        "model.add(Activation('relu'))\n",
        "model.add(Dropout(0.5))\n",
        "model.add(Dense(num_classes))\n",
        "model.add(Activation('softmax'))\n",
        "\n"
      ],
      "metadata": {
        "id": "zvlGadRhNtOB"
      },
      "execution_count": 9,
      "outputs": []
    },
    {
      "cell_type": "code",
      "source": [
        "optimizer = tf.keras.optimizers.Adam(learning_rate=0.01)  #write your optimizer\n",
        "model.compile(optimizer=optimizer, loss='categorical_crossentropy', metrics=['categorical_accuracy'])\n",
        "print (model.summary())"
      ],
      "metadata": {
        "id": "BgeFOPRSNtQk",
        "colab": {
          "base_uri": "https://localhost:8080/"
        },
        "outputId": "438b5927-8e44-4348-8db3-e39eb23992c4"
      },
      "execution_count": 10,
      "outputs": [
        {
          "output_type": "stream",
          "name": "stdout",
          "text": [
            "Model: \"sequential\"\n",
            "_________________________________________________________________\n",
            " Layer (type)                Output Shape              Param #   \n",
            "=================================================================\n",
            " time_distributed (TimeDist  (None, 10, 50, 50, 16)    208       \n",
            " ributed)                                                        \n",
            "                                                                 \n",
            " activation (Activation)     (None, 10, 50, 50, 16)    0         \n",
            "                                                                 \n",
            " batch_normalization (Batch  (None, 10, 50, 50, 16)    64        \n",
            " Normalization)                                                  \n",
            "                                                                 \n",
            " time_distributed_1 (TimeDi  (None, 10, 49, 49, 16)    1040      \n",
            " stributed)                                                      \n",
            "                                                                 \n",
            " activation_1 (Activation)   (None, 10, 49, 49, 16)    0         \n",
            "                                                                 \n",
            " time_distributed_2 (TimeDi  (None, 10, 24, 24, 16)    0         \n",
            " stributed)                                                      \n",
            "                                                                 \n",
            " dropout (Dropout)           (None, 10, 24, 24, 16)    0         \n",
            "                                                                 \n",
            " time_distributed_3 (TimeDi  (None, 10, 24, 24, 32)    2080      \n",
            " stributed)                                                      \n",
            "                                                                 \n",
            " activation_2 (Activation)   (None, 10, 24, 24, 32)    0         \n",
            "                                                                 \n",
            " batch_normalization_1 (Bat  (None, 10, 24, 24, 32)    128       \n",
            " chNormalization)                                                \n",
            "                                                                 \n",
            " time_distributed_4 (TimeDi  (None, 10, 23, 23, 32)    4128      \n",
            " stributed)                                                      \n",
            "                                                                 \n",
            " activation_3 (Activation)   (None, 10, 23, 23, 32)    0         \n",
            "                                                                 \n",
            " time_distributed_5 (TimeDi  (None, 10, 11, 11, 32)    0         \n",
            " stributed)                                                      \n",
            "                                                                 \n",
            " dropout_1 (Dropout)         (None, 10, 11, 11, 32)    0         \n",
            "                                                                 \n",
            " time_distributed_6 (TimeDi  (None, 10, 3872)          0         \n",
            " stributed)                                                      \n",
            "                                                                 \n",
            " lstm (LSTM)                 (None, 256)               4228096   \n",
            "                                                                 \n",
            " dense (Dense)               (None, 64)                16448     \n",
            "                                                                 \n",
            " activation_4 (Activation)   (None, 64)                0         \n",
            "                                                                 \n",
            " dropout_2 (Dropout)         (None, 64)                0         \n",
            "                                                                 \n",
            " dense_1 (Dense)             (None, 5)                 325       \n",
            "                                                                 \n",
            " activation_5 (Activation)   (None, 5)                 0         \n",
            "                                                                 \n",
            "=================================================================\n",
            "Total params: 4252517 (16.22 MB)\n",
            "Trainable params: 4252421 (16.22 MB)\n",
            "Non-trainable params: 96 (384.00 Byte)\n",
            "_________________________________________________________________\n",
            "None\n"
          ]
        }
      ]
    },
    {
      "cell_type": "code",
      "source": [
        "train_generator = generator(train_path, train_doc, batch_size)\n",
        "val_generator = generator(val_path, val_doc, batch_size)"
      ],
      "metadata": {
        "id": "nbT3wAJ7NtS9"
      },
      "execution_count": 11,
      "outputs": []
    },
    {
      "cell_type": "code",
      "source": [
        "\n",
        "model_name = 'model_init_exp_16' + '_' + str(curr_dt_time).replace(' ','').replace(':','_') + '/'\n",
        "\n",
        "if not os.path.exists(model_name):\n",
        "    os.mkdir(model_name)\n",
        "\n",
        "filepath = model_name + 'model-{epoch:05d}-{loss:.5f}-{categorical_accuracy:.5f}-{val_loss:.5f}-{val_categorical_accuracy:.5f}.h5'\n",
        "\n",
        "checkpoint = ModelCheckpoint(filepath, monitor='val_loss', verbose=1, save_best_only=False, save_weights_only=False, mode='auto', period=1)\n",
        "\n",
        "LR = ReduceLROnPlateau(monitor='val_loss', factor=0.2, patience=5, min_lr=0.001, verbose=1) # write the REducelronplateau code here\n",
        "\n",
        "callbacks_list = [checkpoint, LR]"
      ],
      "metadata": {
        "id": "GRKWPTH_NtVX",
        "colab": {
          "base_uri": "https://localhost:8080/"
        },
        "outputId": "5e47dff7-7bd4-4ac1-d325-5b0607582e4a"
      },
      "execution_count": 12,
      "outputs": [
        {
          "output_type": "stream",
          "name": "stderr",
          "text": [
            "WARNING:tensorflow:`period` argument is deprecated. Please use `save_freq` to specify the frequency in number of batches seen.\n"
          ]
        }
      ]
    },
    {
      "cell_type": "code",
      "source": [
        "if (num_train_sequences%batch_size) == 0:\n",
        "    steps_per_epoch = int(num_train_sequences/batch_size)\n",
        "else:\n",
        "    steps_per_epoch = (num_train_sequences//batch_size) + 1\n",
        "\n",
        "if (num_val_sequences%batch_size) == 0:\n",
        "    validation_steps = int(num_val_sequences/batch_size)\n",
        "else:\n",
        "    validation_steps = (num_val_sequences//batch_size) + 1"
      ],
      "metadata": {
        "id": "nfA4XWhxSQNq"
      },
      "execution_count": 13,
      "outputs": []
    },
    {
      "cell_type": "code",
      "source": [
        "model5 = model.fit_generator(train_generator, steps_per_epoch=steps_per_epoch, epochs=num_epochs, verbose=1,\n",
        "                    callbacks=callbacks_list, validation_data=val_generator,\n",
        "                    validation_steps=validation_steps, class_weight=None, workers=1, initial_epoch=0)"
      ],
      "metadata": {
        "id": "6u3_5QDfSQQZ",
        "colab": {
          "base_uri": "https://localhost:8080/"
        },
        "outputId": "e229e7a2-89e0-40c2-a03c-870c9bef85aa"
      },
      "execution_count": null,
      "outputs": [
        {
          "output_type": "stream",
          "name": "stdout",
          "text": [
            "Source path =  /content/drive/My Drive/Project_data/Project_data/train ; batch size = 64\n",
            "Epoch 1/25\n",
            " 4/11 [=========>....................] - ETA: 1:08:50 - loss: 2.7285 - categorical_accuracy: 0.2461"
          ]
        }
      ]
    },
    {
      "cell_type": "code",
      "source": [
        "plt.figure(figsize=(20,6))\n",
        "ax1 = plt.subplot(121)\n",
        "ax1 = plt.plot(model5.history['loss'])\n",
        "ax1 = plt.plot(model5.history['val_loss'])\n",
        "plt.title('Model 5 loss')\n",
        "plt.ylabel('loss')\n",
        "plt.xlabel('epoch')\n",
        "plt.legend(['train', 'validation'], loc='lower left')\n",
        "ax2 = plt.subplot(122)\n",
        "ax2 = plt.plot(model5.history['categorical_accuracy'])\n",
        "ax2 = plt.plot(model5.history['val_categorical_accuracy'])\n",
        "plt.title('Model 5 accuracy')\n",
        "plt.ylabel('categorical_accuracy')\n",
        "plt.xlabel('epoch')\n",
        "plt.legend(['train', 'validation'], loc='lower left')"
      ],
      "metadata": {
        "id": "qgpryJ-DSQSf"
      },
      "execution_count": null,
      "outputs": []
    },
    {
      "cell_type": "code",
      "source": [],
      "metadata": {
        "id": "Qa_wNNcWSQVW"
      },
      "execution_count": null,
      "outputs": []
    },
    {
      "cell_type": "code",
      "source": [],
      "metadata": {
        "id": "fhAfYgcLSQbe"
      },
      "execution_count": null,
      "outputs": []
    }
  ],
  "metadata": {
    "kernelspec": {
      "display_name": "Python 3",
      "name": "python3"
    },
    "language_info": {
      "codemirror_mode": {
        "name": "ipython",
        "version": 3
      },
      "file_extension": ".py",
      "mimetype": "text/x-python",
      "name": "python",
      "nbconvert_exporter": "python",
      "pygments_lexer": "ipython3",
      "version": "3.6.5"
    },
    "colab": {
      "provenance": [],
      "gpuType": "T4"
    },
    "accelerator": "GPU"
  },
  "nbformat": 4,
  "nbformat_minor": 0
}